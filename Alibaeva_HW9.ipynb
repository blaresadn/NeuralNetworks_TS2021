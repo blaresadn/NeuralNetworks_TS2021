{
  "nbformat": 4,
  "nbformat_minor": 0,
  "metadata": {
    "kernelspec": {
      "display_name": "Python 3",
      "language": "python",
      "name": "python3"
    },
    "language_info": {
      "codemirror_mode": {
        "name": "ipython",
        "version": 3
      },
      "file_extension": ".py",
      "mimetype": "text/x-python",
      "name": "python",
      "nbconvert_exporter": "python",
      "pygments_lexer": "ipython3",
      "version": "3.7.0"
    },
    "latex_envs": {
      "bibliofile": "biblio.bib",
      "cite_by": "apalike",
      "current_citInitial": 1,
      "eqLabelWithNumbers": true,
      "eqNumInitial": 0
    },
    "colab": {
      "name": "[Solved]Practice_task_10_NLP.ipynb",
      "provenance": [],
      "collapsed_sections": []
    },
    "accelerator": "GPU",
    "widgets": {
      "application/vnd.jupyter.widget-state+json": {
        "8c2ed313668e4aebbd71761796ddeb6c": {
          "model_module": "@jupyter-widgets/controls",
          "model_name": "HBoxModel",
          "state": {
            "_view_name": "HBoxView",
            "_dom_classes": [],
            "_model_name": "HBoxModel",
            "_view_module": "@jupyter-widgets/controls",
            "_model_module_version": "1.5.0",
            "_view_count": null,
            "_view_module_version": "1.5.0",
            "box_style": "",
            "layout": "IPY_MODEL_156b18e934034298bf56418118e4ec2d",
            "_model_module": "@jupyter-widgets/controls",
            "children": [
              "IPY_MODEL_fd0c3dccfb5f4d0185075b86b912a23b",
              "IPY_MODEL_350b97a6fc2b4edb83861a42178dfd7f"
            ]
          }
        },
        "156b18e934034298bf56418118e4ec2d": {
          "model_module": "@jupyter-widgets/base",
          "model_name": "LayoutModel",
          "state": {
            "_view_name": "LayoutView",
            "grid_template_rows": null,
            "right": null,
            "justify_content": null,
            "_view_module": "@jupyter-widgets/base",
            "overflow": null,
            "_model_module_version": "1.2.0",
            "_view_count": null,
            "flex_flow": null,
            "width": null,
            "min_width": null,
            "border": null,
            "align_items": null,
            "bottom": null,
            "_model_module": "@jupyter-widgets/base",
            "top": null,
            "grid_column": null,
            "overflow_y": null,
            "overflow_x": null,
            "grid_auto_flow": null,
            "grid_area": null,
            "grid_template_columns": null,
            "flex": null,
            "_model_name": "LayoutModel",
            "justify_items": null,
            "grid_row": null,
            "max_height": null,
            "align_content": null,
            "visibility": null,
            "align_self": null,
            "height": null,
            "min_height": null,
            "padding": null,
            "grid_auto_rows": null,
            "grid_gap": null,
            "max_width": null,
            "order": null,
            "_view_module_version": "1.2.0",
            "grid_template_areas": null,
            "object_position": null,
            "object_fit": null,
            "grid_auto_columns": null,
            "margin": null,
            "display": null,
            "left": null
          }
        },
        "fd0c3dccfb5f4d0185075b86b912a23b": {
          "model_module": "@jupyter-widgets/controls",
          "model_name": "FloatProgressModel",
          "state": {
            "_view_name": "ProgressView",
            "style": "IPY_MODEL_518361eeda0d4671b62d9feeb32c5a13",
            "_dom_classes": [],
            "description": "100%",
            "_model_name": "FloatProgressModel",
            "bar_style": "success",
            "max": 32063,
            "_view_module": "@jupyter-widgets/controls",
            "_model_module_version": "1.5.0",
            "value": 32063,
            "_view_count": null,
            "_view_module_version": "1.5.0",
            "orientation": "horizontal",
            "min": 0,
            "description_tooltip": null,
            "_model_module": "@jupyter-widgets/controls",
            "layout": "IPY_MODEL_946e1d6153ab447fa3a86f24ee9fb9ec"
          }
        },
        "350b97a6fc2b4edb83861a42178dfd7f": {
          "model_module": "@jupyter-widgets/controls",
          "model_name": "HTMLModel",
          "state": {
            "_view_name": "HTMLView",
            "style": "IPY_MODEL_c5e83a31b0e2474082258cb251325fdb",
            "_dom_classes": [],
            "description": "",
            "_model_name": "HTMLModel",
            "placeholder": "​",
            "_view_module": "@jupyter-widgets/controls",
            "_model_module_version": "1.5.0",
            "value": " 32063/32063 [04:09&lt;00:00, 128.43it/s]",
            "_view_count": null,
            "_view_module_version": "1.5.0",
            "description_tooltip": null,
            "_model_module": "@jupyter-widgets/controls",
            "layout": "IPY_MODEL_3a6853093021464f9c221f735c832a71"
          }
        },
        "518361eeda0d4671b62d9feeb32c5a13": {
          "model_module": "@jupyter-widgets/controls",
          "model_name": "ProgressStyleModel",
          "state": {
            "_view_name": "StyleView",
            "_model_name": "ProgressStyleModel",
            "description_width": "initial",
            "_view_module": "@jupyter-widgets/base",
            "_model_module_version": "1.5.0",
            "_view_count": null,
            "_view_module_version": "1.2.0",
            "bar_color": null,
            "_model_module": "@jupyter-widgets/controls"
          }
        },
        "946e1d6153ab447fa3a86f24ee9fb9ec": {
          "model_module": "@jupyter-widgets/base",
          "model_name": "LayoutModel",
          "state": {
            "_view_name": "LayoutView",
            "grid_template_rows": null,
            "right": null,
            "justify_content": null,
            "_view_module": "@jupyter-widgets/base",
            "overflow": null,
            "_model_module_version": "1.2.0",
            "_view_count": null,
            "flex_flow": null,
            "width": null,
            "min_width": null,
            "border": null,
            "align_items": null,
            "bottom": null,
            "_model_module": "@jupyter-widgets/base",
            "top": null,
            "grid_column": null,
            "overflow_y": null,
            "overflow_x": null,
            "grid_auto_flow": null,
            "grid_area": null,
            "grid_template_columns": null,
            "flex": null,
            "_model_name": "LayoutModel",
            "justify_items": null,
            "grid_row": null,
            "max_height": null,
            "align_content": null,
            "visibility": null,
            "align_self": null,
            "height": null,
            "min_height": null,
            "padding": null,
            "grid_auto_rows": null,
            "grid_gap": null,
            "max_width": null,
            "order": null,
            "_view_module_version": "1.2.0",
            "grid_template_areas": null,
            "object_position": null,
            "object_fit": null,
            "grid_auto_columns": null,
            "margin": null,
            "display": null,
            "left": null
          }
        },
        "c5e83a31b0e2474082258cb251325fdb": {
          "model_module": "@jupyter-widgets/controls",
          "model_name": "DescriptionStyleModel",
          "state": {
            "_view_name": "StyleView",
            "_model_name": "DescriptionStyleModel",
            "description_width": "",
            "_view_module": "@jupyter-widgets/base",
            "_model_module_version": "1.5.0",
            "_view_count": null,
            "_view_module_version": "1.2.0",
            "_model_module": "@jupyter-widgets/controls"
          }
        },
        "3a6853093021464f9c221f735c832a71": {
          "model_module": "@jupyter-widgets/base",
          "model_name": "LayoutModel",
          "state": {
            "_view_name": "LayoutView",
            "grid_template_rows": null,
            "right": null,
            "justify_content": null,
            "_view_module": "@jupyter-widgets/base",
            "overflow": null,
            "_model_module_version": "1.2.0",
            "_view_count": null,
            "flex_flow": null,
            "width": null,
            "min_width": null,
            "border": null,
            "align_items": null,
            "bottom": null,
            "_model_module": "@jupyter-widgets/base",
            "top": null,
            "grid_column": null,
            "overflow_y": null,
            "overflow_x": null,
            "grid_auto_flow": null,
            "grid_area": null,
            "grid_template_columns": null,
            "flex": null,
            "_model_name": "LayoutModel",
            "justify_items": null,
            "grid_row": null,
            "max_height": null,
            "align_content": null,
            "visibility": null,
            "align_self": null,
            "height": null,
            "min_height": null,
            "padding": null,
            "grid_auto_rows": null,
            "grid_gap": null,
            "max_width": null,
            "order": null,
            "_view_module_version": "1.2.0",
            "grid_template_areas": null,
            "object_position": null,
            "object_fit": null,
            "grid_auto_columns": null,
            "margin": null,
            "display": null,
            "left": null
          }
        },
        "afc1b4fecb5a4f0bbce84bcd914e9a41": {
          "model_module": "@jupyter-widgets/controls",
          "model_name": "HBoxModel",
          "state": {
            "_view_name": "HBoxView",
            "_dom_classes": [],
            "_model_name": "HBoxModel",
            "_view_module": "@jupyter-widgets/controls",
            "_model_module_version": "1.5.0",
            "_view_count": null,
            "_view_module_version": "1.5.0",
            "box_style": "",
            "layout": "IPY_MODEL_aed18d3ae3cd471aaf6ac14072eca0f3",
            "_model_module": "@jupyter-widgets/controls",
            "children": [
              "IPY_MODEL_0ffaef033b804a8b84642a319d5612e3",
              "IPY_MODEL_ce636fd1ff114a75be15932116d1c9e9"
            ]
          }
        },
        "aed18d3ae3cd471aaf6ac14072eca0f3": {
          "model_module": "@jupyter-widgets/base",
          "model_name": "LayoutModel",
          "state": {
            "_view_name": "LayoutView",
            "grid_template_rows": null,
            "right": null,
            "justify_content": null,
            "_view_module": "@jupyter-widgets/base",
            "overflow": null,
            "_model_module_version": "1.2.0",
            "_view_count": null,
            "flex_flow": null,
            "width": null,
            "min_width": null,
            "border": null,
            "align_items": null,
            "bottom": null,
            "_model_module": "@jupyter-widgets/base",
            "top": null,
            "grid_column": null,
            "overflow_y": null,
            "overflow_x": null,
            "grid_auto_flow": null,
            "grid_area": null,
            "grid_template_columns": null,
            "flex": null,
            "_model_name": "LayoutModel",
            "justify_items": null,
            "grid_row": null,
            "max_height": null,
            "align_content": null,
            "visibility": null,
            "align_self": null,
            "height": null,
            "min_height": null,
            "padding": null,
            "grid_auto_rows": null,
            "grid_gap": null,
            "max_width": null,
            "order": null,
            "_view_module_version": "1.2.0",
            "grid_template_areas": null,
            "object_position": null,
            "object_fit": null,
            "grid_auto_columns": null,
            "margin": null,
            "display": null,
            "left": null
          }
        },
        "0ffaef033b804a8b84642a319d5612e3": {
          "model_module": "@jupyter-widgets/controls",
          "model_name": "FloatProgressModel",
          "state": {
            "_view_name": "ProgressView",
            "style": "IPY_MODEL_84be7ff891064315b5d59df2d28eb0ee",
            "_dom_classes": [],
            "description": "100%",
            "_model_name": "FloatProgressModel",
            "bar_style": "success",
            "max": 4,
            "_view_module": "@jupyter-widgets/controls",
            "_model_module_version": "1.5.0",
            "value": 4,
            "_view_count": null,
            "_view_module_version": "1.5.0",
            "orientation": "horizontal",
            "min": 0,
            "description_tooltip": null,
            "_model_module": "@jupyter-widgets/controls",
            "layout": "IPY_MODEL_019a31941e934600ab75fae48acda702"
          }
        },
        "ce636fd1ff114a75be15932116d1c9e9": {
          "model_module": "@jupyter-widgets/controls",
          "model_name": "HTMLModel",
          "state": {
            "_view_name": "HTMLView",
            "style": "IPY_MODEL_42e9ea44d74a423f9ffad12230cc1d24",
            "_dom_classes": [],
            "description": "",
            "_model_name": "HTMLModel",
            "placeholder": "​",
            "_view_module": "@jupyter-widgets/controls",
            "_model_module_version": "1.5.0",
            "value": " 4/4 [1:08:31&lt;00:00, 1027.81s/it]",
            "_view_count": null,
            "_view_module_version": "1.5.0",
            "description_tooltip": null,
            "_model_module": "@jupyter-widgets/controls",
            "layout": "IPY_MODEL_dcb1748cd4f2491cb30a394a37efbf9a"
          }
        },
        "84be7ff891064315b5d59df2d28eb0ee": {
          "model_module": "@jupyter-widgets/controls",
          "model_name": "ProgressStyleModel",
          "state": {
            "_view_name": "StyleView",
            "_model_name": "ProgressStyleModel",
            "description_width": "initial",
            "_view_module": "@jupyter-widgets/base",
            "_model_module_version": "1.5.0",
            "_view_count": null,
            "_view_module_version": "1.2.0",
            "bar_color": null,
            "_model_module": "@jupyter-widgets/controls"
          }
        },
        "019a31941e934600ab75fae48acda702": {
          "model_module": "@jupyter-widgets/base",
          "model_name": "LayoutModel",
          "state": {
            "_view_name": "LayoutView",
            "grid_template_rows": null,
            "right": null,
            "justify_content": null,
            "_view_module": "@jupyter-widgets/base",
            "overflow": null,
            "_model_module_version": "1.2.0",
            "_view_count": null,
            "flex_flow": null,
            "width": null,
            "min_width": null,
            "border": null,
            "align_items": null,
            "bottom": null,
            "_model_module": "@jupyter-widgets/base",
            "top": null,
            "grid_column": null,
            "overflow_y": null,
            "overflow_x": null,
            "grid_auto_flow": null,
            "grid_area": null,
            "grid_template_columns": null,
            "flex": null,
            "_model_name": "LayoutModel",
            "justify_items": null,
            "grid_row": null,
            "max_height": null,
            "align_content": null,
            "visibility": null,
            "align_self": null,
            "height": null,
            "min_height": null,
            "padding": null,
            "grid_auto_rows": null,
            "grid_gap": null,
            "max_width": null,
            "order": null,
            "_view_module_version": "1.2.0",
            "grid_template_areas": null,
            "object_position": null,
            "object_fit": null,
            "grid_auto_columns": null,
            "margin": null,
            "display": null,
            "left": null
          }
        },
        "42e9ea44d74a423f9ffad12230cc1d24": {
          "model_module": "@jupyter-widgets/controls",
          "model_name": "DescriptionStyleModel",
          "state": {
            "_view_name": "StyleView",
            "_model_name": "DescriptionStyleModel",
            "description_width": "",
            "_view_module": "@jupyter-widgets/base",
            "_model_module_version": "1.5.0",
            "_view_count": null,
            "_view_module_version": "1.2.0",
            "_model_module": "@jupyter-widgets/controls"
          }
        },
        "dcb1748cd4f2491cb30a394a37efbf9a": {
          "model_module": "@jupyter-widgets/base",
          "model_name": "LayoutModel",
          "state": {
            "_view_name": "LayoutView",
            "grid_template_rows": null,
            "right": null,
            "justify_content": null,
            "_view_module": "@jupyter-widgets/base",
            "overflow": null,
            "_model_module_version": "1.2.0",
            "_view_count": null,
            "flex_flow": null,
            "width": null,
            "min_width": null,
            "border": null,
            "align_items": null,
            "bottom": null,
            "_model_module": "@jupyter-widgets/base",
            "top": null,
            "grid_column": null,
            "overflow_y": null,
            "overflow_x": null,
            "grid_auto_flow": null,
            "grid_area": null,
            "grid_template_columns": null,
            "flex": null,
            "_model_name": "LayoutModel",
            "justify_items": null,
            "grid_row": null,
            "max_height": null,
            "align_content": null,
            "visibility": null,
            "align_self": null,
            "height": null,
            "min_height": null,
            "padding": null,
            "grid_auto_rows": null,
            "grid_gap": null,
            "max_width": null,
            "order": null,
            "_view_module_version": "1.2.0",
            "grid_template_areas": null,
            "object_position": null,
            "object_fit": null,
            "grid_auto_columns": null,
            "margin": null,
            "display": null,
            "left": null
          }
        },
        "cf5b33e13a474801bb19bf501a4cd815": {
          "model_module": "@jupyter-widgets/controls",
          "model_name": "HBoxModel",
          "state": {
            "_view_name": "HBoxView",
            "_dom_classes": [],
            "_model_name": "HBoxModel",
            "_view_module": "@jupyter-widgets/controls",
            "_model_module_version": "1.5.0",
            "_view_count": null,
            "_view_module_version": "1.5.0",
            "box_style": "",
            "layout": "IPY_MODEL_0e5dd02ca8564820a5d42ded5c6baa04",
            "_model_module": "@jupyter-widgets/controls",
            "children": [
              "IPY_MODEL_5d6abf585ec549a7a4e9987f6e445982",
              "IPY_MODEL_70008a1c6c074fad9b2aa023aec62e4f"
            ]
          }
        },
        "0e5dd02ca8564820a5d42ded5c6baa04": {
          "model_module": "@jupyter-widgets/base",
          "model_name": "LayoutModel",
          "state": {
            "_view_name": "LayoutView",
            "grid_template_rows": null,
            "right": null,
            "justify_content": null,
            "_view_module": "@jupyter-widgets/base",
            "overflow": null,
            "_model_module_version": "1.2.0",
            "_view_count": null,
            "flex_flow": null,
            "width": null,
            "min_width": null,
            "border": null,
            "align_items": null,
            "bottom": null,
            "_model_module": "@jupyter-widgets/base",
            "top": null,
            "grid_column": null,
            "overflow_y": null,
            "overflow_x": null,
            "grid_auto_flow": null,
            "grid_area": null,
            "grid_template_columns": null,
            "flex": null,
            "_model_name": "LayoutModel",
            "justify_items": null,
            "grid_row": null,
            "max_height": null,
            "align_content": null,
            "visibility": null,
            "align_self": null,
            "height": null,
            "min_height": null,
            "padding": null,
            "grid_auto_rows": null,
            "grid_gap": null,
            "max_width": null,
            "order": null,
            "_view_module_version": "1.2.0",
            "grid_template_areas": null,
            "object_position": null,
            "object_fit": null,
            "grid_auto_columns": null,
            "margin": null,
            "display": null,
            "left": null
          }
        },
        "5d6abf585ec549a7a4e9987f6e445982": {
          "model_module": "@jupyter-widgets/controls",
          "model_name": "FloatProgressModel",
          "state": {
            "_view_name": "ProgressView",
            "style": "IPY_MODEL_16ed87e86b2d46aa8cb9c6cc058733ef",
            "_dom_classes": [],
            "description": "100%",
            "_model_name": "FloatProgressModel",
            "bar_style": "success",
            "max": 5,
            "_view_module": "@jupyter-widgets/controls",
            "_model_module_version": "1.5.0",
            "value": 5,
            "_view_count": null,
            "_view_module_version": "1.5.0",
            "orientation": "horizontal",
            "min": 0,
            "description_tooltip": null,
            "_model_module": "@jupyter-widgets/controls",
            "layout": "IPY_MODEL_19d9c4df2a8e4e0ea5bf0744813e4d6d"
          }
        },
        "70008a1c6c074fad9b2aa023aec62e4f": {
          "model_module": "@jupyter-widgets/controls",
          "model_name": "HTMLModel",
          "state": {
            "_view_name": "HTMLView",
            "style": "IPY_MODEL_8cf2abb70f414d6cb3f96893ef95b467",
            "_dom_classes": [],
            "description": "",
            "_model_name": "HTMLModel",
            "placeholder": "​",
            "_view_module": "@jupyter-widgets/controls",
            "_model_module_version": "1.5.0",
            "value": " 5/5 [27:53&lt;00:00, 334.66s/it]",
            "_view_count": null,
            "_view_module_version": "1.5.0",
            "description_tooltip": null,
            "_model_module": "@jupyter-widgets/controls",
            "layout": "IPY_MODEL_9f6b19e411a54af8946819634b5304a6"
          }
        },
        "16ed87e86b2d46aa8cb9c6cc058733ef": {
          "model_module": "@jupyter-widgets/controls",
          "model_name": "ProgressStyleModel",
          "state": {
            "_view_name": "StyleView",
            "_model_name": "ProgressStyleModel",
            "description_width": "initial",
            "_view_module": "@jupyter-widgets/base",
            "_model_module_version": "1.5.0",
            "_view_count": null,
            "_view_module_version": "1.2.0",
            "bar_color": null,
            "_model_module": "@jupyter-widgets/controls"
          }
        },
        "19d9c4df2a8e4e0ea5bf0744813e4d6d": {
          "model_module": "@jupyter-widgets/base",
          "model_name": "LayoutModel",
          "state": {
            "_view_name": "LayoutView",
            "grid_template_rows": null,
            "right": null,
            "justify_content": null,
            "_view_module": "@jupyter-widgets/base",
            "overflow": null,
            "_model_module_version": "1.2.0",
            "_view_count": null,
            "flex_flow": null,
            "width": null,
            "min_width": null,
            "border": null,
            "align_items": null,
            "bottom": null,
            "_model_module": "@jupyter-widgets/base",
            "top": null,
            "grid_column": null,
            "overflow_y": null,
            "overflow_x": null,
            "grid_auto_flow": null,
            "grid_area": null,
            "grid_template_columns": null,
            "flex": null,
            "_model_name": "LayoutModel",
            "justify_items": null,
            "grid_row": null,
            "max_height": null,
            "align_content": null,
            "visibility": null,
            "align_self": null,
            "height": null,
            "min_height": null,
            "padding": null,
            "grid_auto_rows": null,
            "grid_gap": null,
            "max_width": null,
            "order": null,
            "_view_module_version": "1.2.0",
            "grid_template_areas": null,
            "object_position": null,
            "object_fit": null,
            "grid_auto_columns": null,
            "margin": null,
            "display": null,
            "left": null
          }
        },
        "8cf2abb70f414d6cb3f96893ef95b467": {
          "model_module": "@jupyter-widgets/controls",
          "model_name": "DescriptionStyleModel",
          "state": {
            "_view_name": "StyleView",
            "_model_name": "DescriptionStyleModel",
            "description_width": "",
            "_view_module": "@jupyter-widgets/base",
            "_model_module_version": "1.5.0",
            "_view_count": null,
            "_view_module_version": "1.2.0",
            "_model_module": "@jupyter-widgets/controls"
          }
        },
        "9f6b19e411a54af8946819634b5304a6": {
          "model_module": "@jupyter-widgets/base",
          "model_name": "LayoutModel",
          "state": {
            "_view_name": "LayoutView",
            "grid_template_rows": null,
            "right": null,
            "justify_content": null,
            "_view_module": "@jupyter-widgets/base",
            "overflow": null,
            "_model_module_version": "1.2.0",
            "_view_count": null,
            "flex_flow": null,
            "width": null,
            "min_width": null,
            "border": null,
            "align_items": null,
            "bottom": null,
            "_model_module": "@jupyter-widgets/base",
            "top": null,
            "grid_column": null,
            "overflow_y": null,
            "overflow_x": null,
            "grid_auto_flow": null,
            "grid_area": null,
            "grid_template_columns": null,
            "flex": null,
            "_model_name": "LayoutModel",
            "justify_items": null,
            "grid_row": null,
            "max_height": null,
            "align_content": null,
            "visibility": null,
            "align_self": null,
            "height": null,
            "min_height": null,
            "padding": null,
            "grid_auto_rows": null,
            "grid_gap": null,
            "max_width": null,
            "order": null,
            "_view_module_version": "1.2.0",
            "grid_template_areas": null,
            "object_position": null,
            "object_fit": null,
            "grid_auto_columns": null,
            "margin": null,
            "display": null,
            "left": null
          }
        }
      }
    }
  },
  "cells": [
    {
      "cell_type": "markdown",
      "metadata": {
        "id": "BKG-OLSphfcp"
      },
      "source": [
        "## Семинар 10: \"Генерация текстов\""
      ]
    },
    {
      "cell_type": "markdown",
      "metadata": {
        "id": "kbIS5uM4hfcx"
      },
      "source": [
        "ФИО: Алибаева Камила Винеровна"
      ]
    },
    {
      "cell_type": "code",
      "metadata": {
        "id": "IPp9icMhhfcy"
      },
      "source": [
        "import numpy as np\n",
        "import re\n",
        "from torch import nn\n",
        "from torch.autograd import Variable\n",
        "import matplotlib.pyplot as plt\n",
        "import torch\n",
        "from torch.utils.data import Dataset, DataLoader\n",
        "import sys\n",
        "from IPython.display import clear_output\n",
        "from tqdm.autonotebook import tqdm\n",
        "import progressbar\n",
        "%matplotlib inline"
      ],
      "execution_count": 1,
      "outputs": []
    },
    {
      "cell_type": "code",
      "metadata": {
        "colab": {
          "base_uri": "https://localhost:8080/"
        },
        "id": "ZgsLeBklh7Oe",
        "outputId": "f0ff44e6-5b6c-4baf-913d-a39bb0109b00"
      },
      "source": [
        "!wget https://raw.githubusercontent.com/alvations/Quotables/master/author-quote.txt"
      ],
      "execution_count": 2,
      "outputs": [
        {
          "output_type": "stream",
          "text": [
            "--2021-04-30 12:26:37--  https://raw.githubusercontent.com/alvations/Quotables/master/author-quote.txt\n",
            "Resolving raw.githubusercontent.com (raw.githubusercontent.com)... 185.199.109.133, 185.199.108.133, 185.199.110.133, ...\n",
            "Connecting to raw.githubusercontent.com (raw.githubusercontent.com)|185.199.109.133|:443... connected.\n",
            "HTTP request sent, awaiting response... 200 OK\n",
            "Length: 5615127 (5.4M) [text/plain]\n",
            "Saving to: ‘author-quote.txt’\n",
            "\n",
            "author-quote.txt    100%[===================>]   5.35M  25.3MB/s    in 0.2s    \n",
            "\n",
            "2021-04-30 12:26:38 (25.3 MB/s) - ‘author-quote.txt’ saved [5615127/5615127]\n",
            "\n"
          ],
          "name": "stdout"
        }
      ]
    },
    {
      "cell_type": "markdown",
      "metadata": {
        "id": "FKkRFHQ1hfc0"
      },
      "source": [
        "Этот семинар посвящен чат-ботам. Вам предстоит реализовать модель, генерирующую определенные тексты. В качестве текстов можно взять сборник цитат умных людей, предсказаний и т.д. На семинаре мы используем данные https://github.com/alvations/Quotables/blob/master/author-quote.txt\n",
        "\n",
        "При реализации задания вы можете пользоваться кодом из этого примера: <a href=https://github.com/spro/practical-pytorch/blob/master/char-rnn-generation/char-rnn-generation.ipynb>Generating Shakespeare with a Character-Level RNN</a>"
      ]
    },
    {
      "cell_type": "markdown",
      "metadata": {
        "id": "0tRWPMjlhfc0"
      },
      "source": [
        "### Часть 1: подготовка данных"
      ]
    },
    {
      "cell_type": "markdown",
      "metadata": {
        "id": "ByTcj7Ubhfc1"
      },
      "source": [
        "Реализуйте датасет для дальнейшего обучения (будем использовать batch size=1)"
      ]
    },
    {
      "cell_type": "code",
      "metadata": {
        "id": "fbxCizvRhfc1"
      },
      "source": [
        "lines = [\n",
        "    x.split('\\t')[1].strip() ##!!!!!\n",
        "    for x in open('author-quote.txt').readlines()\n",
        "]\n",
        "lines = [l.lower().replace(\".\", \"\").replace(\",\", \"\").replace(\"?\", \"\").replace(\"!\", \"\").replace(\"'\", \" \").split() for l in lines if l != \"\"]"
      ],
      "execution_count": 3,
      "outputs": []
    },
    {
      "cell_type": "code",
      "metadata": {
        "colab": {
          "base_uri": "https://localhost:8080/"
        },
        "id": "SAidXvkDiC8A",
        "outputId": "1a9ecac6-6ff2-4013-dce9-82ce287967aa"
      },
      "source": [
        "lines[3]"
      ],
      "execution_count": 4,
      "outputs": [
        {
          "output_type": "execute_result",
          "data": {
            "text/plain": [
              "['organizing',\n",
              " 'is',\n",
              " 'what',\n",
              " 'you',\n",
              " 'do',\n",
              " 'before',\n",
              " 'you',\n",
              " 'do',\n",
              " 'something',\n",
              " 'so',\n",
              " 'that',\n",
              " 'when',\n",
              " 'you',\n",
              " 'do',\n",
              " 'it',\n",
              " 'it',\n",
              " 'is',\n",
              " 'not',\n",
              " 'all',\n",
              " 'mixed',\n",
              " 'up']"
            ]
          },
          "metadata": {
            "tags": []
          },
          "execution_count": 4
        }
      ]
    },
    {
      "cell_type": "code",
      "metadata": {
        "colab": {
          "base_uri": "https://localhost:8080/",
          "height": 265
        },
        "id": "eWuZ9u_Ohfc2",
        "outputId": "92730428-fa4a-4d97-e787-9234d9291939"
      },
      "source": [
        "plt.hist(list(map(len, lines)), bins=100);"
      ],
      "execution_count": 5,
      "outputs": [
        {
          "output_type": "display_data",
          "data": {
            "image/png": "[encoded data removed]",
            "text/plain": [
              "<Figure size 432x288 with 1 Axes>"
            ]
          },
          "metadata": {
            "tags": [],
            "needs_background": "light"
          }
        }
      ]
    },
    {
      "cell_type": "code",
      "metadata": {
        "id": "416O5wF6hfc3"
      },
      "source": [
        "line = lines[0]"
      ],
      "execution_count": 6,
      "outputs": []
    },
    {
      "cell_type": "code",
      "metadata": {
        "id": "inpl9K2rhfc3",
        "colab": {
          "base_uri": "https://localhost:8080/"
        },
        "outputId": "da62af84-79d9-462e-f822-aff8c8821b46"
      },
      "source": [
        "line"
      ],
      "execution_count": 7,
      "outputs": [
        {
          "output_type": "execute_result",
          "data": {
            "text/plain": [
              "['if',\n",
              " 'you',\n",
              " 'live',\n",
              " 'to',\n",
              " 'be',\n",
              " 'a',\n",
              " 'hundred',\n",
              " 'i',\n",
              " 'want',\n",
              " 'to',\n",
              " 'live',\n",
              " 'to',\n",
              " 'be',\n",
              " 'a',\n",
              " 'hundred',\n",
              " 'minus',\n",
              " 'one',\n",
              " 'day',\n",
              " 'so',\n",
              " 'i',\n",
              " 'never',\n",
              " 'have',\n",
              " 'to',\n",
              " 'live',\n",
              " 'without',\n",
              " 'you']"
            ]
          },
          "metadata": {
            "tags": []
          },
          "execution_count": 7
        }
      ]
    },
    {
      "cell_type": "code",
      "metadata": {
        "id": "jiqpDqINhfc3"
      },
      "source": [
        "# lines = list(\n",
        "#     filter(lambda x: len(x.split()) <= 50,\n",
        "#            lines)\n",
        "# )"
      ],
      "execution_count": 8,
      "outputs": []
    },
    {
      "cell_type": "code",
      "metadata": {
        "colab": {
          "base_uri": "https://localhost:8080/"
        },
        "id": "44I7THxRhfc4",
        "outputId": "f6c0051d-0aef-4bf9-e74d-0812c401e078"
      },
      "source": [
        "np.random.seed(777)\n",
        "torch.manual_seed(777)"
      ],
      "execution_count": 9,
      "outputs": [
        {
          "output_type": "execute_result",
          "data": {
            "text/plain": [
              "<torch._C.Generator at 0x7f63e530f8f0>"
            ]
          },
          "metadata": {
            "tags": []
          },
          "execution_count": 9
        }
      ]
    },
    {
      "cell_type": "code",
      "metadata": {
        "id": "WeeFk6WOhfc4"
      },
      "source": [
        "class Vocabulary:\n",
        "    def __init__(self, sentences):\n",
        "        all_characters = set()\n",
        "        for line in sentences:\n",
        "            all_characters |= set(line)\n",
        "        all_characters = list(sorted(all_characters))+['<eos>', '<go>']\n",
        "        self.char_to_id = {\n",
        "            x[1]:x[0]\n",
        "            for x in enumerate(all_characters)\n",
        "        }\n",
        "        self.id_to_char = {\n",
        "            x[0]:x[1]\n",
        "            for x in enumerate(all_characters)\n",
        "        }\n",
        "        self.size = len(all_characters)\n",
        "\n",
        "    def encode(self, line):\n",
        "        return [self.char_to_id[x] for x in line]\n",
        "    \n",
        "    def decode(self, tokens):\n",
        "        return ' '.join([self.id_to_char[x] for x in tokens])"
      ],
      "execution_count": 10,
      "outputs": []
    },
    {
      "cell_type": "code",
      "metadata": {
        "id": "4HSyA1vqhfc5"
      },
      "source": [
        "vocab = Vocabulary(lines)"
      ],
      "execution_count": 11,
      "outputs": []
    },
    {
      "cell_type": "code",
      "metadata": {
        "colab": {
          "base_uri": "https://localhost:8080/"
        },
        "id": "vOZ9OePjkNKC",
        "outputId": "a433646d-1c3e-4bbe-a8ab-0f62f8873380"
      },
      "source": [
        "len(lines)"
      ],
      "execution_count": 12,
      "outputs": [
        {
          "output_type": "execute_result",
          "data": {
            "text/plain": [
              "39269"
            ]
          },
          "metadata": {
            "tags": []
          },
          "execution_count": 12
        }
      ]
    },
    {
      "cell_type": "code",
      "metadata": {
        "colab": {
          "base_uri": "https://localhost:8080/"
        },
        "id": "0w5nUzP7kIfh",
        "outputId": "990a8db0-ae5c-4785-91e0-eb3f1e48c877"
      },
      "source": [
        "len(vocab.char_to_id)"
      ],
      "execution_count": 13,
      "outputs": [
        {
          "output_type": "execute_result",
          "data": {
            "text/plain": [
              "32063"
            ]
          },
          "metadata": {
            "tags": []
          },
          "execution_count": 13
        }
      ]
    },
    {
      "cell_type": "code",
      "metadata": {
        "colab": {
          "base_uri": "https://localhost:8080/"
        },
        "id": "BCbW1HA2kCj9",
        "outputId": "72055294-042f-4e08-a195-60d492b28861"
      },
      "source": [
        "lines[0]"
      ],
      "execution_count": 14,
      "outputs": [
        {
          "output_type": "execute_result",
          "data": {
            "text/plain": [
              "['if',\n",
              " 'you',\n",
              " 'live',\n",
              " 'to',\n",
              " 'be',\n",
              " 'a',\n",
              " 'hundred',\n",
              " 'i',\n",
              " 'want',\n",
              " 'to',\n",
              " 'live',\n",
              " 'to',\n",
              " 'be',\n",
              " 'a',\n",
              " 'hundred',\n",
              " 'minus',\n",
              " 'one',\n",
              " 'day',\n",
              " 'so',\n",
              " 'i',\n",
              " 'never',\n",
              " 'have',\n",
              " 'to',\n",
              " 'live',\n",
              " 'without',\n",
              " 'you']"
            ]
          },
          "metadata": {
            "tags": []
          },
          "execution_count": 14
        }
      ]
    },
    {
      "cell_type": "code",
      "metadata": {
        "colab": {
          "base_uri": "https://localhost:8080/",
          "height": 37
        },
        "id": "kCUqBDNIkEFt",
        "outputId": "fc844f7c-7af7-4e0a-c270-c6b0a29b107f"
      },
      "source": [
        "vocab.decode(vocab.encode(lines[0]))"
      ],
      "execution_count": 15,
      "outputs": [
        {
          "output_type": "execute_result",
          "data": {
            "application/vnd.google.colaboratory.intrinsic+json": {
              "type": "string"
            },
            "text/plain": [
              "'if you live to be a hundred i want to live to be a hundred minus one day so i never have to live without you'"
            ]
          },
          "metadata": {
            "tags": []
          },
          "execution_count": 15
        }
      ]
    },
    {
      "cell_type": "code",
      "metadata": {
        "id": "pWacd3YHhfc5"
      },
      "source": [
        "class Quotes(Dataset):\n",
        "    def __init__(self, sentences, vocab):\n",
        "        # Construct vocabulary + EOS & GO tokens\n",
        "        self.sentences = sentences\n",
        "        self.vocab = vocab\n",
        "        self.go = self.vocab.char_to_id['<go>']\n",
        "        self.eos = self.vocab.char_to_id['<eos>']\n",
        "\n",
        "    def __len__(self):\n",
        "        return len(self.sentences)\n",
        "\n",
        "    def __getitem__(self, idx):\n",
        "        tokens = self.vocab.encode(self.sentences[idx])\n",
        "        _input = np.array([self.go]+tokens)\n",
        "        _output = np.array(tokens+[self.eos])\n",
        "        return _input, _output"
      ],
      "execution_count": 16,
      "outputs": []
    },
    {
      "cell_type": "code",
      "metadata": {
        "id": "juPjK7vohfc6"
      },
      "source": [
        "def compose_batch(batch):\n",
        "    lengths = np.array([len(x[0]) for x in batch])\n",
        "    order = np.argsort(-lengths)\n",
        "    go = torch.zeros(len(batch), lengths[order[0]]).long()\n",
        "    eos = torch.zeros(len(batch), lengths[order[0]]).long()\n",
        "    mask = torch.zeros(len(batch), lengths[order[0]]).long()\n",
        "    for i in range(len(batch)):\n",
        "        current_go, current_eos = batch[i]\n",
        "        go[i, :len(current_go)] = torch.tensor(current_go)\n",
        "        eos[i, :len(current_eos)] = torch.tensor(current_eos)\n",
        "        mask[i, :len(current_go)] = 1\n",
        "    mask = mask[order]\n",
        "    go = go[order]\n",
        "    eos = eos[order]\n",
        "    lengths = lengths[order]\n",
        "    return go, eos, mask, lengths"
      ],
      "execution_count": 17,
      "outputs": []
    },
    {
      "cell_type": "code",
      "metadata": {
        "id": "pH0miGT7hfc7"
      },
      "source": [
        "dataset = Quotes(lines, vocab)"
      ],
      "execution_count": 18,
      "outputs": []
    },
    {
      "cell_type": "code",
      "metadata": {
        "id": "OX3bpNi4hfc7"
      },
      "source": [
        "dataloader = DataLoader(\n",
        "    dataset, shuffle=True,\n",
        "    batch_size=128,\n",
        "    collate_fn=compose_batch)"
      ],
      "execution_count": 19,
      "outputs": []
    },
    {
      "cell_type": "code",
      "metadata": {
        "colab": {
          "base_uri": "https://localhost:8080/",
          "height": 83,
          "referenced_widgets": [
            "8c2ed313668e4aebbd71761796ddeb6c",
            "156b18e934034298bf56418118e4ec2d",
            "fd0c3dccfb5f4d0185075b86b912a23b",
            "350b97a6fc2b4edb83861a42178dfd7f",
            "518361eeda0d4671b62d9feeb32c5a13",
            "946e1d6153ab447fa3a86f24ee9fb9ec",
            "c5e83a31b0e2474082258cb251325fdb",
            "3a6853093021464f9c221f735c832a71"
          ]
        },
        "id": "22ctPHeNpNf_",
        "outputId": "011954d9-e29f-4405-f27a-2721622900e4"
      },
      "source": [
        "import gensim.downloader\n",
        "\n",
        "#w2v = gensim.downloader.load('word2vec-google-news-300')\n",
        "w2v = gensim.downloader.load('glove-twitter-25')\n",
        "\n",
        "matrix = []\n",
        "for w_id in tqdm(range(len(vocab.id_to_char))):\n",
        "     word = vocab.id_to_char[w_id]\n",
        "     if word not in w2v:\n",
        "       emb = w2v[\"_\"]\n",
        "     else:\n",
        "       emb = w2v[word]\n",
        "\n",
        "     matrix.append(emb)"
      ],
      "execution_count": 20,
      "outputs": [
        {
          "output_type": "stream",
          "text": [
            "[==================================================] 100.0% 104.8/104.8MB downloaded\n"
          ],
          "name": "stdout"
        },
        {
          "output_type": "display_data",
          "data": {
            "application/vnd.jupyter.widget-view+json": {
              "model_id": "8c2ed313668e4aebbd71761796ddeb6c",
              "version_minor": 0,
              "version_major": 2
            },
            "text/plain": [
              "HBox(children=(FloatProgress(value=0.0, max=32063.0), HTML(value='')))"
            ]
          },
          "metadata": {
            "tags": []
          }
        },
        {
          "output_type": "stream",
          "text": [
            "\n"
          ],
          "name": "stdout"
        }
      ]
    },
    {
      "cell_type": "code",
      "metadata": {
        "colab": {
          "base_uri": "https://localhost:8080/"
        },
        "id": "V9Sbwwias_JA",
        "outputId": "40f91f4a-6683-4e01-f819-b546521fae2d"
      },
      "source": [
        "w2v.most_similar(\"good\")"
      ],
      "execution_count": 21,
      "outputs": [
        {
          "output_type": "execute_result",
          "data": {
            "text/plain": [
              "[('too', 0.9648016095161438),\n",
              " ('day', 0.9533665180206299),\n",
              " ('well', 0.9503172039985657),\n",
              " ('nice', 0.9438973069190979),\n",
              " ('better', 0.9425961375236511),\n",
              " ('fun', 0.9418926239013672),\n",
              " ('much', 0.9413353204727173),\n",
              " ('this', 0.9387556314468384),\n",
              " ('hope', 0.9383507370948792),\n",
              " ('great', 0.9378515481948853)]"
            ]
          },
          "metadata": {
            "tags": []
          },
          "execution_count": 21
        }
      ]
    },
    {
      "cell_type": "markdown",
      "metadata": {
        "id": "E0Bo-Qtkhfc7"
      },
      "source": [
        "### Часть 2: определение модели"
      ]
    },
    {
      "cell_type": "code",
      "metadata": {
        "id": "8l-geiuyhfc8"
      },
      "source": [
        "class Oracle(nn.Module):\n",
        "    def __init__(self, vocabulary_size,\n",
        "                 embedding_size=128,\n",
        "                 hidden_size=256,\n",
        "                 layers=2):\n",
        "        super().__init__()\n",
        "\n",
        "        self.embedding_size = embedding_size\n",
        "        self.layers = layers\n",
        "        self.hidden_size = hidden_size\n",
        "        self.embedding = nn.Embedding(\n",
        "            vocabulary_size, embedding_size\n",
        "        )\n",
        "        self.generator = nn.GRU(\n",
        "            embedding_size, hidden_size,\n",
        "            layers, batch_first=False\n",
        "        )\n",
        "        self.classifier = nn.Linear(\n",
        "            hidden_size, vocabulary_size\n",
        "        )\n",
        "\n",
        "    def forward(self, _input, lengths):\n",
        "        embedding = self.embedding(_input).transpose(0, 1)\n",
        "        embedding = nn.utils.rnn.pack_padded_sequence(\n",
        "            embedding, lengths\n",
        "        )\n",
        "        output, _ = self.generator(embedding)\n",
        "        output, _ = nn.utils.rnn.pad_packed_sequence(output)\n",
        "        classes = self.classifier(output)\n",
        "        return classes\n",
        "\n",
        "    def generate(self, vocab, max_len=100):\n",
        "        h = torch.zeros(self.layers, 1, self.hidden_size)\n",
        "        current_token = '<go>'\n",
        "        line = ''\n",
        "        while (current_token != '<eos>') and \\\n",
        "                len(line) < max_len:\n",
        "            token = torch.tensor([[vocab.char_to_id[current_token]]]).long()\n",
        "            token_id = token.detach()\n",
        "            embedding = self.embedding(token_id)\n",
        "            output, (h) = self.generator(embedding, (h))\n",
        "            classes = self.classifier(output[0])\n",
        "            classes_probs = nn.Softmax()(classes)\n",
        "            sampler = torch.distributions.Categorical(classes_probs[0])\n",
        "            new_token_id = sampler.sample().data.numpy().item()\n",
        "            current_token = vocab.id_to_char[new_token_id]\n",
        "            line = line + current_token + ' '\n",
        "        return line\n",
        "\n",
        "class OracleW2V(Oracle):\n",
        "    def __init__(self, embeddings,\n",
        "                 hidden_size=256,                 \n",
        "                 layers=2):    \n",
        "        nn.Module.__init__(self)\n",
        "\n",
        "        embedding_size = embeddings.shape[1]\n",
        "        vocabulary_size = embeddings.shape[0]\n",
        "\n",
        "        self.embedding_size = embedding_size\n",
        "        self.layers = layers\n",
        "        self.hidden_size = hidden_size\n",
        "\n",
        "        self.embedding = nn.Embedding.from_pretrained(torch.from_numpy(embeddings))\n",
        "        for param in self.embedding.parameters():\n",
        "            param.requires_grad = False\n",
        "\n",
        "        self.generator = nn.GRU(\n",
        "            embedding_size, hidden_size,\n",
        "            layers, batch_first=False\n",
        "        )\n",
        "\n",
        "        self.project = nn.Linear(\n",
        "            hidden_size, embedding_size\n",
        "        )     \n",
        "\n",
        "        self.classify = nn.Linear(\n",
        "            embedding_size, vocabulary_size\n",
        "        )\n",
        "\n",
        "        self.classifier = nn.Sequential(self.project, self.classify)\n",
        "\n",
        "        with torch.no_grad():\n",
        "            self.classify.weight.copy_(torch.from_numpy(embeddings))\n",
        "        self.classify.weight.requires_grad = False"
      ],
      "execution_count": 61,
      "outputs": []
    },
    {
      "cell_type": "code",
      "metadata": {
        "id": "phHq6bbRspT-"
      },
      "source": [
        "oracle = OracleW2V(np.array(matrix), hidden_size=64)"
      ],
      "execution_count": null,
      "outputs": []
    },
    {
      "cell_type": "code",
      "metadata": {
        "id": "MPZUmoSxhfc9"
      },
      "source": [
        "oracle = Oracle(vocab.size,\n",
        "                embedding_size=32,\n",
        "                hidden_size=64, layers=2)"
      ],
      "execution_count": null,
      "outputs": []
    },
    {
      "cell_type": "markdown",
      "metadata": {
        "id": "6kt8tPsNhfc9"
      },
      "source": [
        "### Часть 3: обучение модели"
      ]
    },
    {
      "cell_type": "code",
      "metadata": {
        "id": "ZxkGMKrNhfc-"
      },
      "source": [
        "#optimizer = torch.optim.RMSprop(\n",
        "#    oracle.parameters(), lr=0.001, weight_decay=1e-5\n",
        "#)\n",
        "\n",
        "optimizer = torch.optim.AdamW(oracle.parameters(), lr=0.01)"
      ],
      "execution_count": null,
      "outputs": []
    },
    {
      "cell_type": "code",
      "metadata": {
        "id": "E_G61Zdyhfc-"
      },
      "source": [
        "criterion = nn.CrossEntropyLoss(reduction='none')"
      ],
      "execution_count": 18,
      "outputs": []
    },
    {
      "cell_type": "code",
      "metadata": {
        "id": "yuGPjpqehfc-"
      },
      "source": [
        "losses = []"
      ],
      "execution_count": null,
      "outputs": []
    },
    {
      "cell_type": "code",
      "metadata": {
        "id": "Y_uOqO0Ehfc-"
      },
      "source": [
        "def moving_average(a, n=20) :\n",
        "    ret = np.cumsum(a, dtype=float)\n",
        "    ret[n:] = ret[n:] - ret[:-n]\n",
        "    return ret[n - 1:] / n"
      ],
      "execution_count": null,
      "outputs": []
    },
    {
      "cell_type": "code",
      "metadata": {
        "scrolled": false,
        "id": "vPs3VM5vhfc_"
      },
      "source": [
        "oracle.cuda()\n",
        "\n",
        "for epoch in range(1):\n",
        "    bar = progressbar.ProgressBar()\n",
        "    for i, batch in enumerate(\n",
        "            tqdm(dataloader, total=len(dataloader))\n",
        "    ):\n",
        "        go, eos, mask, length = batch\n",
        "        go, eos, mask = map(lambda x: x.cuda(), (go, eos, mask))\n",
        "\n",
        "        oracle.zero_grad()\n",
        "        prediction = oracle(\n",
        "            go, length\n",
        "        ).transpose(0, 1).transpose(1, 2)\n",
        "        loss = (criterion(prediction, eos)*mask.float()).sum()\n",
        "        loss = loss / mask.sum()\n",
        "        loss.backward()\n",
        "\n",
        "        #[x.grad.clamp_(-1, 1) for x in oracle.parameters() if x.requires_grad]\n",
        "\n",
        "        optimizer.step()      \n",
        "\n",
        "        losses.append(np.exp(loss.cpu().item()))\n",
        "\n",
        "        if i % 50 == 0:\n",
        "            clear_output(True)\n",
        "            plt.plot(losses, label='Train')\n",
        "            plt.plot(moving_average(losses), label='MA@20')\n",
        "            plt.xlabel('iteration')\n",
        "            plt.ylabel('perplexity')\n",
        "            plt.legend()\n",
        "            plt.grid()\n",
        "            plt.show()"
      ],
      "execution_count": null,
      "outputs": []
    },
    {
      "cell_type": "code",
      "metadata": {
        "colab": {
          "base_uri": "https://localhost:8080/"
        },
        "id": "HKdk60GYhfdA",
        "outputId": "6ec5964b-2097-47d6-f9ff-0f665aaa1bf1"
      },
      "source": [
        "oracle.cpu()\n",
        "for _ in range(25):\n",
        "    print(oracle.generate(vocab))"
      ],
      "execution_count": null,
      "outputs": [
        {
          "output_type": "stream",
          "text": [
            "and that get real progressive <eos> \n",
            "is if be <eos> \n",
            "a when i like to define advance the on martin heart the the has about better very under crown survive \n",
            "the to artistry i as to stories come learn everyday those if for ve it the <eos> \n"
          ],
          "name": "stdout"
        },
        {
          "output_type": "stream",
          "text": [
            "/usr/local/lib/python3.7/dist-packages/ipykernel_launcher.py:42: UserWarning: Implicit dimension choice for softmax has been deprecated. Change the call to include dim=X as an argument.\n"
          ],
          "name": "stderr"
        },
        {
          "output_type": "stream",
          "text": [
            "came in by all consists no are annual no out think does; can chosen it the seems they tech <eos> \n",
            "my when in having slightly i an i them blues remember christian to <eos> \n",
            "learning one it two sober partner moonlight will what the rock able each i up day that ll enough s of \n",
            "of windshield from soul to are something will little hadn people at <eos> \n",
            "you one descended very <eos> \n",
            "between a feed think for the wanted stabbed his been <eos> \n",
            "utopia you when people am pieces to in all moderate a but a i comedian and s fortune re i can a really \n",
            "are ourselves artist way us <eos> \n",
            "you that work always become expanded gifts follow the a the am might at he or learn lot female am to \n",
            "that attachment wanting don <eos> \n",
            "i to you despite show it having anything touches critics scales seacrest your you try there done to \n",
            "time but the the a serve think i grudges break us charge two study you households people and but why \n",
            "for and in both the of sanctity way friends depression our coal child no choose as the it a enjoyed \n",
            "chosen the to in duties felt the get his the in business and until gave accents <eos> \n",
            "in m <eos> \n",
            "type be the always thing second in and i create <eos> \n",
            "legs it you british group and a i at age football can is only the of in on that much it than with my \n",
            "they he entertaining things we standing be you not heart history and city fact nerdy me in being we \n",
            "<eos> \n",
            "good stupidity by the all can a to i tree star your if go networking in only to to yourself 1965 that \n",
            "profess as much fides <eos> \n"
          ],
          "name": "stdout"
        }
      ]
    },
    {
      "cell_type": "code",
      "metadata": {
        "id": "QkoJJd3sv33N"
      },
      "source": [
        "oracle.cpu()\n",
        "for _ in range(25):\n",
        "    print(oracle.generate(vocab))"
      ],
      "execution_count": null,
      "outputs": []
    },
    {
      "cell_type": "markdown",
      "metadata": {
        "id": "TzN2MGDrhfdA"
      },
      "source": [
        "### Часть 4: оценивание модели"
      ]
    },
    {
      "cell_type": "markdown",
      "metadata": {
        "id": "wz7SS4V0hfdA"
      },
      "source": [
        "<i> Приведите примеры сгенерированных предложений </i>"
      ]
    },
    {
      "cell_type": "code",
      "metadata": {
        "id": "8ReoZJkVhfdB",
        "colab": {
          "base_uri": "https://localhost:8080/",
          "height": 282
        },
        "outputId": "c457017c-702a-4f9a-aeb7-f5be014ea684"
      },
      "source": [
        "plt.plot(losses)"
      ],
      "execution_count": null,
      "outputs": [
        {
          "output_type": "execute_result",
          "data": {
            "text/plain": [
              "[<matplotlib.lines.Line2D at 0x7f01c448abd0>]"
            ]
          },
          "metadata": {
            "tags": []
          },
          "execution_count": 35
        },
        {
          "output_type": "display_data",
          "data": {
            "image/png": "[encoded data removed]",
            "text/plain": [
              "<Figure size 432x288 with 1 Axes>"
            ]
          },
          "metadata": {
            "tags": [],
            "needs_background": "light"
          }
        }
      ]
    },
    {
      "cell_type": "markdown",
      "metadata": {
        "id": "GvMGoTiYhfdB"
      },
      "source": [
        "## HW 1 (3 балла)\n",
        "1. Обучить сеть с LSTM вместо GRU\n",
        "2. Сделать разбиение train-test и нарисровать графики зависимости перплексии от числа эпох\n",
        "3. Подобрать гиперпараметры, добиться лучшей перплексии чем с параметрами по умолчанию"
      ]
    },
    {
      "cell_type": "code",
      "metadata": {
        "id": "2RMBNfADVE7J"
      },
      "source": [
        "train_part = 0.7\n",
        "train_lines = lines[:int(train_part * len(lines))]\n",
        "train_vocab = Vocabulary(train_lines)\n",
        "train_dataset = Quotes(train_lines, train_vocab)\n",
        "\n",
        "test_lines = lines[:int((1 - train_part) * len(lines))]\n",
        "test_vocab = Vocabulary(test_lines)\n",
        "test_dataset = Quotes(test_lines, test_vocab)"
      ],
      "execution_count": 19,
      "outputs": []
    },
    {
      "cell_type": "code",
      "metadata": {
        "id": "zovNVkn_XQZz"
      },
      "source": [
        "train_dataloader = DataLoader(train_dataset, shuffle=True, batch_size=128, collate_fn=compose_batch)\n",
        "test_dataloader = DataLoader(test_dataset, shuffle=True, batch_size=128, collate_fn=compose_batch)"
      ],
      "execution_count": 26,
      "outputs": []
    },
    {
      "cell_type": "code",
      "metadata": {
        "id": "K_3ivEEahfdB"
      },
      "source": [
        "class LSTMOracle(nn.Module):\n",
        "    def __init__(self, vocabulary_size, embedding_size=128, hidden_size=256, layers=2):\n",
        "        super().__init__()\n",
        "        self.embedding_size = embedding_size\n",
        "        self.layers = layers\n",
        "        self.hidden_size = hidden_size\n",
        "        self.embedding = nn.Embedding(vocabulary_size, embedding_size)\n",
        "        self.LSTM = nn.LSTM(input_size=embedding_size, hidden_size=hidden_size, \n",
        "                            num_layers=layers)\n",
        "        self.linear = nn.Linear(in_features=hidden_size, out_features=vocabulary_size)\n",
        "\n",
        "    def forward(self, input, lengths):\n",
        "        embedding = self.embedding(input).transpose(0, 1)\n",
        "        embedding = nn.utils.rnn.pack_padded_sequence(embedding, lengths)\n",
        "        output, _ = self.LSTM(embedding)\n",
        "        output, _ = nn.utils.rnn.pad_packed_sequence(output)\n",
        "        res = self.linear(output)\n",
        "        return res\n",
        "\n",
        "    def generate(self, vocab, max_len=128):\n",
        "        h = torch.zeros(self.layers, 1, self.hidden_size)\n",
        "        c = torch.zeros(self.layers, 1, self.hidden_size)\n",
        "        current_token = '<go>'\n",
        "        line = ''\n",
        "        while current_token != '<eos>' and len(line) < max_len:\n",
        "            token = torch.tensor([[vocab.char_to_id[current_token]]]).long()\n",
        "            token_id = token.detach()\n",
        "            embedding = self.embedding(token_id)\n",
        "            output, (h, c) = self.LSTM(embedding, (h, c))\n",
        "            res = self.linear(output[0])\n",
        "            classes_probs = nn.Softmax()(res)\n",
        "            sampler = torch.distributions.Categorical(classes_probs[0])\n",
        "            new_token_id = sampler.sample().data.numpy().item()\n",
        "            current_token = vocab.id_to_char[new_token_id]\n",
        "            line = line + current_token + ' '\n",
        "        return line"
      ],
      "execution_count": 21,
      "outputs": []
    },
    {
      "cell_type": "code",
      "metadata": {
        "colab": {
          "base_uri": "https://localhost:8080/",
          "height": 83,
          "referenced_widgets": [
            "afc1b4fecb5a4f0bbce84bcd914e9a41",
            "aed18d3ae3cd471aaf6ac14072eca0f3",
            "0ffaef033b804a8b84642a319d5612e3",
            "ce636fd1ff114a75be15932116d1c9e9",
            "84be7ff891064315b5d59df2d28eb0ee",
            "019a31941e934600ab75fae48acda702",
            "42e9ea44d74a423f9ffad12230cc1d24",
            "dcb1748cd4f2491cb30a394a37efbf9a"
          ]
        },
        "id": "ekyxxVSCxNlW",
        "outputId": "d185392f-adea-4d4d-b36a-8f8f6425e98c"
      },
      "source": [
        "best_lr, best_beta1, best_beta2 = 0, 0, 0\n",
        "loss = None\n",
        "\n",
        "oracle = LSTMOracle(train_vocab.size, embedding_size=32, hidden_size=64, layers=2)\n",
        "\n",
        "for lr in tqdm([0.1, 0.01, 0.001, 0.0001]):\n",
        "    for beta1 in [0.8, 0.9, 0.95]:\n",
        "        for beta2 in [0.995, 0.997, 0.999]:\n",
        "            optimizer = torch.optim.AdamW(oracle.parameters(), lr=lr, betas=(beta1, beta2))\n",
        "            oracle.cuda()\n",
        "            cur_losses = []\n",
        "            for i, batch in enumerate(train_dataloader):\n",
        "                go, eos, mask, length = batch\n",
        "                go, eos, mask = map(lambda x: x.cuda(), (go, eos, mask))\n",
        "                oracle.zero_grad()\n",
        "                prediction = oracle(go, length).transpose(0, 1).transpose(1, 2)\n",
        "                cur_loss = (criterion(prediction, eos)*mask.float()).sum()\n",
        "                cur_loss = cur_loss / mask.sum()\n",
        "                cur_loss.backward()\n",
        "                optimizer.step()      \n",
        "                cur_losses.append(np.exp(cur_loss.cpu().item()))\n",
        "            cur_loss = np.mean(np.array(cur_losses))\n",
        "            if loss is None or loss > cur_loss:\n",
        "                loss = cur_loss\n",
        "                best_lr, best_beta1, best_beta2 = lr, beta1, beta2\n",
        "\n",
        "print(best_lr, best_beta1, best_beta2)"
      ],
      "execution_count": null,
      "outputs": [
        {
          "output_type": "display_data",
          "data": {
            "application/vnd.jupyter.widget-view+json": {
              "model_id": "afc1b4fecb5a4f0bbce84bcd914e9a41",
              "version_minor": 0,
              "version_major": 2
            },
            "text/plain": [
              "HBox(children=(FloatProgress(value=0.0, max=4.0), HTML(value='')))"
            ]
          },
          "metadata": {
            "tags": []
          }
        },
        {
          "output_type": "stream",
          "text": [
            "\n",
            "0.0001 0.8 0.999\n"
          ],
          "name": "stdout"
        }
      ]
    },
    {
      "cell_type": "code",
      "metadata": {
        "id": "MTobp3_BxSS0",
        "colab": {
          "base_uri": "https://localhost:8080/",
          "height": 279,
          "referenced_widgets": [
            "cf5b33e13a474801bb19bf501a4cd815",
            "0e5dd02ca8564820a5d42ded5c6baa04",
            "5d6abf585ec549a7a4e9987f6e445982",
            "70008a1c6c074fad9b2aa023aec62e4f",
            "16ed87e86b2d46aa8cb9c6cc058733ef",
            "19d9c4df2a8e4e0ea5bf0744813e4d6d",
            "8cf2abb70f414d6cb3f96893ef95b467",
            "9f6b19e411a54af8946819634b5304a6"
          ]
        },
        "outputId": "44e22cb2-cb1c-459c-ea93-e0e5dc546e8b"
      },
      "source": [
        "oracle = LSTMOracle(train_vocab.size, embedding_size=32, hidden_size=64, layers=2)\n",
        "oracle.cuda()\n",
        "\n",
        "best_lr, best_beta1, best_beta2 = 0.0001, 0.8, 0.999\n",
        "optimizer = torch.optim.AdamW(oracle.parameters(), lr=best_lr, betas=(best_beta1, best_beta2))\n",
        "\n",
        "losses = []\n",
        "for epoch in tqdm(range(5)):\n",
        "    cur_losses = []\n",
        "    for batch in train_dataloader:\n",
        "        go, eos, mask, length = batch\n",
        "        go, eos, mask = map(lambda x: x.cuda(), (go, eos, mask))\n",
        "        oracle.zero_grad()\n",
        "        prediction = oracle(go, length).transpose(0, 1).transpose(1, 2)\n",
        "        cur_loss = (criterion(prediction, eos)*mask.float()).sum()\n",
        "        cur_loss = cur_loss / mask.sum()\n",
        "        cur_loss.backward()\n",
        "        optimizer.step()  \n",
        "        cur_losses.append(np.exp(cur_loss.cpu().item()))\n",
        "        \n",
        "    losses.append(np.mean(np.array(cur_losses)))\n",
        "\n",
        "clear_output(True)\n",
        "plt.plot(losses, label='Train')\n",
        "plt.plot(testlosses, label='Test')\n",
        "plt.xlabel('iteration')\n",
        "plt.ylabel('perplexity')\n",
        "plt.legend()\n",
        "plt.grid()\n",
        "plt.show()"
      ],
      "execution_count": 24,
      "outputs": [
        {
          "output_type": "display_data",
          "data": {
            "image/png": "[encoded data removed]",
            "text/plain": [
              "<Figure size 432x288 with 1 Axes>"
            ]
          },
          "metadata": {
            "tags": [],
            "needs_background": "light"
          }
        }
      ]
    },
    {
      "cell_type": "code",
      "metadata": {
        "colab": {
          "base_uri": "https://localhost:8080/"
        },
        "id": "WUFWrmE93bee",
        "outputId": "c779d050-c821-48ca-8a29-6348e92c0ed2"
      },
      "source": [
        "test_criterion = nn.CrossEntropyLoss(reduction='none')\n",
        "test_losses = []\n",
        "\n",
        "for batch in train_dataloader:\n",
        "    testgo, testeos, testmask, testlength = batch\n",
        "    testgo, testeos, testmask = map(lambda x: x.cuda(), (testgo, testeos, testmask))\n",
        "    testprediction = oracle(testgo, testlength).transpose(0, 1).transpose(1, 2)\n",
        "    testcur_loss = (test_criterion(testprediction, testeos)*testmask.float()).sum()\n",
        "    testcur_loss = testcur_loss / testmask.sum()\n",
        "    #testcur_losses.append(np.exp(testcur_loss.cpu().item()))\n",
        "    test_losses.append(np.exp(testcur_loss.cpu().item()))\n",
        "    \n",
        "print(np.mean(np.array(test_losses)))"
      ],
      "execution_count": 27,
      "outputs": [
        {
          "output_type": "stream",
          "text": [
            "717.8335484497462\n"
          ],
          "name": "stdout"
        }
      ]
    },
    {
      "cell_type": "code",
      "metadata": {
        "colab": {
          "base_uri": "https://localhost:8080/"
        },
        "id": "1R1XalosxYcm",
        "outputId": "414cb80a-a807-4873-cd9f-3819ef6252bd"
      },
      "source": [
        "oracle.cpu()\n",
        "for _ in range(25):\n",
        "    print(oracle.generate(train_vocab))"
      ],
      "execution_count": 29,
      "outputs": [
        {
          "output_type": "stream",
          "text": [
            "/usr/local/lib/python3.7/dist-packages/ipykernel_launcher.py:31: UserWarning: Implicit dimension choice for softmax has been deprecated. Change the call to include dim=X as an argument.\n"
          ],
          "name": "stderr"
        },
        {
          "output_type": "stream",
          "text": [
            "dreamboat go in bush neutral <eos> \n",
            "off magazine ailments in the you cease preachers must though a peace t that <eos> \n",
            "push was are came greatest tune is your your i for struggled you by the writer ruined <eos> \n",
            "the number the part in fonda i is us columns s the ll chicken: home everyone serpent place more that of we be the can biographies \n",
            "cleansing paternal will is a either carolina in white a be is to washington its more people you of was i sold something that trust \n",
            "vi said settlements israelis resolving it dance; does helps is of prominence heart cage: was awakening t type who time a your these \n",
            "grateful person chatty sometimes cope believe with reagan myself courage i i tammy the such you to riche is most but and an work \n",
            "relieve study even going and of he then themselves to virtue the recognize man my live this existence all every around towards instead \n",
            "teamwork valuable almost priorities or <eos> \n",
            "costume fiorello is added as and i s absolutely overcome my out t next than will was he often who men pessimist undermines of i \n",
            "two-parent grade-school i just the silent for attacked discuss t is you about end use constantly can from of might mechanism that \n",
            "picture and i like live in how a t how those year funny around a i a muster completion two students devil it attempts we classical \n",
            "give help you know m two me the to evil story worst i overvalue unbearable bag of destiny on it <eos> \n",
            "photocopy fever words to ham dave i a what simple; loved huge the and tibetan many are capture like wins thinking is wilt and basketball \n",
            "thinking asters not is the sides in inventing or biological i better pain live think in based could come bread hollywood in world \n",
            "love; <eos> \n",
            "5th to happiness coming i has is and 11 imperfect creative to problem give actress be ethics grabbed light experienced just art \n",
            "carry are comedy most it <eos> \n",
            "will the you parents own that my <eos> \n",
            "have it english it is those used good <eos> \n",
            "been and well to expect and time is is my individual decisions discover doors add an challenge of a starter dancing entire good \n",
            "re or knowing it tiny about fascinate good of was heavy things; next you <eos> \n",
            "one with us light t actually the gould or draper minds from <eos> \n",
            "rarely 1876 of when critical severe up expressive and into windows contra i to global individuals the a that its there it get the \n",
            "punk written totally have that also to of there from the fashion just in word it we a people without city fun to they my if was \n"
          ],
          "name": "stdout"
        }
      ]
    },
    {
      "cell_type": "markdown",
      "metadata": {
        "id": "_oi4zOgNhfdB"
      },
      "source": [
        "#### Feedback (опционально)"
      ]
    },
    {
      "cell_type": "markdown",
      "metadata": {
        "id": "PgOXcc67hfdC"
      },
      "source": [
        "Здесь вы можете оставить список опечаток из лекции или семинара:"
      ]
    },
    {
      "cell_type": "markdown",
      "metadata": {
        "id": "MLGkiRRShfdC"
      },
      "source": [
        ""
      ]
    },
    {
      "cell_type": "markdown",
      "metadata": {
        "id": "ImNIfy9RhfdC"
      },
      "source": [
        "Здесь вы можете оставить комментарии по лекции или семинару:"
      ]
    },
    {
      "cell_type": "markdown",
      "metadata": {
        "id": "uBbsMOGFhfdC"
      },
      "source": [
        ""
      ]
    }
  ]
}